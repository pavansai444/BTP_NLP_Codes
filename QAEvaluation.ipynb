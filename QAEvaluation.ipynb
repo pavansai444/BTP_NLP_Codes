{
 "cells": [
  {
   "cell_type": "markdown",
   "id": "d32cbc87-8c53-4188-8143-d9c72b8eed1a",
   "metadata": {
    "jp-MarkdownHeadingCollapsed": true
   },
   "source": [
    "# Evaluation Code"
   ]
  },
  {
   "cell_type": "code",
   "execution_count": 2,
   "id": "35053100-f45a-4a92-a55f-247cfc46afec",
   "metadata": {},
   "outputs": [
    {
     "name": "stdout",
     "output_type": "stream",
     "text": [
      "Exact Match: 57.407407\n",
      "F1 Score: 74.474106\n",
      "Best Exact Match: 57.407407\n",
      "Best F1 Score: 74.474106\n",
      "Total: 54\n",
      "HasAns Exact Match: 57.407407\n",
      "HasAns F1: 74.474106\n",
      "HasAns Total: 54\n"
     ]
    }
   ],
   "source": [
    "predictions_path = \"chat_gpt_3.5.json\"\n",
    "ground_truth_path = \"extracted_data.json\"\n",
    "\n",
    "import json\n",
    "from transformers.data.metrics.squad_metrics import squad_evaluate\n",
    "\n",
    "class DictToObject:\n",
    "    def __init__(self, dictionary):\n",
    "        for key, value in dictionary.items():\n",
    "            setattr(self, key, value)\n",
    "def load_json(file_path):\n",
    "    with open(file_path, 'r') as f:\n",
    "        return json.load(f)\n",
    "\n",
    "ground_truths = load_json(ground_truth_path)\n",
    "predictions = load_json(predictions_path)\n",
    "\n",
    "# Prepare data for squad_evaluate\n",
    "ground_truths = [DictToObject(item) for item in ground_truths]\n",
    "\n",
    "# Evaluate\n",
    "results = squad_evaluate(ground_truths, predictions)\n",
    "\n",
    "# Print results\n",
    "print(f\"Exact Match: {results['exact']:.6f}\")\n",
    "print(f\"F1 Score: {results['f1']:.6f}\")\n",
    "print(f\"Best Exact Match: {results['best_exact']:.6f}\")\n",
    "print(f\"Best F1 Score: {results['best_f1']:.6f}\")\n",
    "print(f\"Total: {results['total']}\")\n",
    "print(f\"HasAns Exact Match: {results['HasAns_exact']:.6f}\")\n",
    "print(f\"HasAns F1: {results['HasAns_f1']:.6f}\")\n",
    "print(f\"HasAns Total: {results['HasAns_total']}\")"
   ]
  },
  {
   "cell_type": "markdown",
   "id": "5c227309-d642-4b5f-bc16-6c654e051de9",
   "metadata": {
    "jp-MarkdownHeadingCollapsed": true
   },
   "source": [
    "# Data Extraction from dev file"
   ]
  },
  {
   "cell_type": "code",
   "execution_count": 60,
   "id": "e1c106fb-9d02-42c5-b2e3-f2198d12b7f3",
   "metadata": {},
   "outputs": [],
   "source": [
    "import json\n",
    "with open('/tf/pavan/llama-recipes/recipes/quickstart/finetuning/dev-v2.0.json') as f:\n",
    "    data=json.load(f)\n",
    "data['data']\n",
    "# Extracting the desired array\n",
    "extracted_data = []\n",
    "for item in data['data']:\n",
    "    for paragraph in item['paragraphs']:\n",
    "        for qas in paragraph['qas']:\n",
    "            qas_id = str(qas['id'])\n",
    "            answers = [{'text': answer['text']} for answer in qas['answers']]\n",
    "            extracted_data.append({\n",
    "                'qas_id': qas_id,\n",
    "                'answers': answers\n",
    "            })\n",
    "# print(extracted_data)\n",
    "with open('extracted_data.json', 'w') as json_file:\n",
    "    json.dump(extracted_data, json_file, indent=4)\n"
   ]
  }
 ],
 "metadata": {
  "kernelspec": {
   "display_name": "Python 3 (ipykernel)",
   "language": "python",
   "name": "python3"
  },
  "language_info": {
   "codemirror_mode": {
    "name": "ipython",
    "version": 3
   },
   "file_extension": ".py",
   "mimetype": "text/x-python",
   "name": "python",
   "nbconvert_exporter": "python",
   "pygments_lexer": "ipython3",
   "version": "3.11.0rc1"
  }
 },
 "nbformat": 4,
 "nbformat_minor": 5
}
